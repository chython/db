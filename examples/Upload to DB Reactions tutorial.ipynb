{
 "cells": [
  {
   "cell_type": "code",
   "execution_count": null,
   "id": "ddd575e8",
   "metadata": {},
   "outputs": [],
   "source": [
    "# If database is not empty and you want to erase it, uncomment this\n",
    "#from CGRdb.database import db\n",
    "#from pony.orm import db_session\n",
    "#from CGRdb.database.config import Config\n",
    "#db.bind(provider='postgres', user='postgres', host='localhost', password=\"example\", database='test',\n",
    "#        port=5432)\n",
    "#db.generate_mapping(check_tables=False, create_tables=True)\n",
    "#db.drop_all_tables(with_all_data=True)\n",
    "#db.commit()\n",
    "#db.disconnect()\n",
    "#db.unbind()"
   ]
  },
  {
   "cell_type": "code",
   "execution_count": null,
   "id": "801bee31",
   "metadata": {},
   "outputs": [],
   "source": [
    "# Connect to database and create tables\n",
    "from chythonDB.database import db\n",
    "import zipfile\n",
    "db.bind(provider='postgres', user='postgres', host='localhost', password=\"example\", database='test',\n",
    "        port=5432)\n",
    "db.generate_mapping(create_tables=True)"
   ]
  },
  {
   "cell_type": "code",
   "execution_count": null,
   "id": "c5e4709c",
   "metadata": {},
   "outputs": [],
   "source": [
    "# DB settings for fingerprints (linear fingerprints) and LSH (please refer to datasketch library)\n",
    "from chythonDB.database.config import Config\n",
    "db.execute(\"Create extension if not exists intarray;\")\n",
    "Config(key=\"fingerprint\",value={\"min_radius\":1, \"max_radius\":6, \"length\":2048,\n",
    "                 \"number_active_bits\":2, \"number_bit_pairs\":4})\n",
    "Config(key=\"lsh_num_permute\",value=64)\n",
    "Config(key=\"lsh_threshold\",value=0.7)\n",
    "db.commit()\n",
    "db.disconnect()\n",
    "db.unbind()"
   ]
  },
  {
   "cell_type": "code",
   "execution_count": 5,
   "id": "58331ac2",
   "metadata": {},
   "outputs": [
    {
     "name": "stderr",
     "output_type": "stream",
     "text": [
      "Exception ignored in: <function MiniRacer.__del__ at 0x11091a550>\n",
      "Traceback (most recent call last):\n",
      "  File \"/Users/timur/University/ChythonDB/.venv/lib/python3.9/site-packages/py_mini_racer/py_mini_racer.py\", line 315, in __del__\n",
      "    self.ext.mr_free_context(getattr(self, \"ctx\", None))\n",
      "AttributeError: 'NoneType' object has no attribute 'mr_free_context'\n"
     ]
    }
   ],
   "source": [
    "from chythonDB.database import db\n",
    "import zipfile\n",
    "from pony.orm import db_session\n",
    "from chython import smiles\n",
    "from chythonDB.database import Reaction\n",
    "from multiprocess import Process, Queue\n",
    "from tqdm import tqdm\n",
    "from chython.exceptions import InvalidAromaticRing, IncorrectSmiles, ValenceError, MappingError"
   ]
  },
  {
   "cell_type": "code",
   "execution_count": 3,
   "id": "e7f9f8ef",
   "metadata": {},
   "outputs": [],
   "source": [
    "# loader into the database with datacleaning procedure\n",
    "def worker(q):\n",
    "    db.bind(provider='postgres', user='postgres', host='localhost', password=\"example\", database='test',\n",
    "        port=5432)\n",
    "    db.generate_mapping()\n",
    "    while True:\n",
    "        data = q.get()\n",
    "        if data is None:\n",
    "            break\n",
    "        reaction = smiles(data)\n",
    "        try:\n",
    "            reaction.canonicalize()\n",
    "        except (InvalidAromaticRing, IncorrectSmiles, ValenceError, MappingError):\n",
    "            print(reaction)\n",
    "            continue\n",
    "        # putting reaction into the DB in 10 attempts due to parallel loading\n",
    "        for _ in range(10):\n",
    "            try:\n",
    "                with db_session():\n",
    "                    Reaction(reaction, keep_cgr=False) # change here to include storage of CGRs in DB\n",
    "                    break\n",
    "            except Exception as e:\n",
    "                continue\n",
    "        else:\n",
    "            print(f\" upload failed with error \\n {e}\")\n",
    "    print(\"finished\")"
   ]
  },
  {
   "cell_type": "code",
   "execution_count": 6,
   "id": "fa0b8c44",
   "metadata": {
    "scrolled": true
   },
   "outputs": [
    {
     "data": {
      "text/plain": [
       "[None, None, None, None]"
      ]
     },
     "execution_count": 6,
     "metadata": {},
     "output_type": "execute_result"
    },
    {
     "name": "stderr",
     "output_type": "stream",
     "text": [
      "objc[28526]: +[__NSCFConstantString initialize] may have been in progress in another thread when fork() was called.\n",
      "objc[28524]: +[__NSCFConstantString initialize] may have been in progress in another thread when fork() was called.\n",
      "objc[28526]: +[__NSCFConstantString initialize] may have been in progress in another thread when fork() was called. We cannot safely call it or ignore it in the fork() child process. Crashing instead. Set a breakpoint on objc_initializeAfterForkError to debug.\n",
      "objc[28527]: +[__NSCFConstantString initialize] may have been in progress in another thread when fork() was called.\n",
      "objc[28525]: +[__NSCFConstantString initialize] may have been in progress in another thread when fork() was called.\n",
      "objc[28527]: +[__NSCFConstantString initialize] may have been in progress in another thread when fork() was called. We cannot safely call it or ignore it in the fork() child process. Crashing instead. Set a breakpoint on objc_initializeAfterForkError to debug.\n",
      "objc[28525]: +[__NSCFConstantString initialize] may have been in progress in another thread when fork() was called. We cannot safely call it or ignore it in the fork() child process. Crashing instead. Set a breakpoint on objc_initializeAfterForkError to debug.\n",
      "objc[28524]: +[__NSCFConstantString initialize] may have been in progress in another thread when fork() was called. We cannot safely call it or ignore it in the fork() child process. Crashing instead. Set a breakpoint on objc_initializeAfterForkError to debug.\n"
     ]
    }
   ],
   "source": [
    "# define number of workers\n",
    "num_workers=4\n",
    "q = Queue(maxsize=num_workers*2)\n",
    "pr = [Process(target=worker, \n",
    "              args=[q], ) for _ in range(num_workers)]\n",
    "[p.start() for p in pr]"
   ]
  },
  {
   "cell_type": "code",
   "execution_count": null,
   "id": "4d673bc0",
   "metadata": {},
   "outputs": [
    {
     "name": "stderr",
     "output_type": "stream",
     "text": [
      "0it [00:00, ?it/s]"
     ]
    }
   ],
   "source": [
    "# put reactions into the queue for uploading\n",
    "# with zipfile.ZipFile(\"../dataset/USPTO.smi.zip\", 'r') as zip_ref:\n",
    "#     zip_ref.extractall(\"\")\n",
    "with open(\"USPTO.smi\") as f:\n",
    "    for cgr in tqdm(f):\n",
    "        q.put(cgr.strip(\"\\n\"))\n",
    "    for i in range(num_workerss):\n",
    "        q.put(None)"
   ]
  },
  {
   "cell_type": "code",
   "execution_count": null,
   "id": "747c8fc3",
   "metadata": {
    "pycharm": {
     "name": "#%%\n"
    }
   },
   "outputs": [],
   "source": [
    "# generate indexes for the database\n",
    "\n",
    "db.bind(provider='postgres', user='postgres', host='localhost', password=\"example\", database='test',\n",
    "        port=5432)\n",
    "db.generate_mapping()\n",
    "db.create_fing_index()\n",
    "db.create_sim_index()\n",
    "db.create_cgr_sim_index()"
   ]
  },
  {
   "cell_type": "code",
   "execution_count": null,
   "id": "22325e97",
   "metadata": {},
   "outputs": [],
   "source": []
  }
 ],
 "metadata": {
  "kernelspec": {
   "display_name": "Python 3 (ipykernel)",
   "language": "python",
   "name": "python3"
  },
  "language_info": {
   "codemirror_mode": {
    "name": "ipython",
    "version": 3
   },
   "file_extension": ".py",
   "mimetype": "text/x-python",
   "name": "python",
   "nbconvert_exporter": "python",
   "pygments_lexer": "ipython3",
   "version": "3.9.18"
  }
 },
 "nbformat": 4,
 "nbformat_minor": 5
}