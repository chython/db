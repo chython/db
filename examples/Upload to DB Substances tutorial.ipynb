{
 "cells": [
  {
   "cell_type": "code",
   "execution_count": 2,
   "id": "ee11a82c",
   "metadata": {},
   "outputs": [
    {
     "name": "stderr",
     "output_type": "stream",
     "text": [
      "Exception ignored in: <function MiniRacer.__del__ at 0x106b0f430>\n",
      "Traceback (most recent call last):\n",
      "  File \"/Users/timur/University/ChythonDB/.venv/lib/python3.9/site-packages/py_mini_racer/py_mini_racer.py\", line 315, in __del__\n",
      "    self.ext.mr_free_context(getattr(self, \"ctx\", None))\n",
      "AttributeError: 'NoneType' object has no attribute 'mr_free_context'\n"
     ]
    }
   ],
   "source": [
    "from pony.orm import db_session\n",
    "from chythonDB.database import db\n",
    "from chython import smiles\n",
    "from chythonDB.database import Substance\n",
    "from multiprocess import Process, Queue\n",
    "from tqdm import tqdm\n",
    "import zipfile"
   ]
  },
  {
   "cell_type": "code",
   "execution_count": 2,
   "id": "4ed5425b",
   "metadata": {},
   "outputs": [],
   "source": [
    "# #If database is not empty and you want to erase it, uncomment this\n",
    "# from chythonDB.database import db\n",
    "# from pony.orm import db_session\n",
    "# from chythonDB.database.config import Config\n",
    "# db.bind(provider='postgres', user='postgres', host='localhost', password=\"example\", database='test',\n",
    "#        port=5432)\n",
    "# db.generate_mapping(check_tables=False, create_tables=True)\n",
    "# db.drop_all_tables(with_all_data=True)\n",
    "# db.commit()\n",
    "# db.disconnect()\n",
    "# db.unbind()"
   ]
  },
  {
   "cell_type": "code",
   "execution_count": 3,
   "id": "5fecdb7b",
   "metadata": {},
   "outputs": [],
   "source": [
    "# Connection to the database\n",
    "db.bind(provider='postgres', user='postgres', host='localhost', password=\"example\", database='test',\n",
    "        port=5432)\n",
    "db.generate_mapping(create_tables=True)"
   ]
  },
  {
   "cell_type": "code",
   "execution_count": null,
   "id": "026c95bc",
   "metadata": {},
   "outputs": [],
   "source": [
    "# initialize parameters for fingerprint and LSH\n",
    "from chythonDB.database.config import Config\n",
    "db.execute(\"Create extension if not exists intarray;\")\n",
    "Config(key=\"fingerprint\",value={\"min_radius\":1, \"max_radius\":6, \"length\":2048,\n",
    "                 \"number_active_bits\":2, \"number_bit_pairs\":4})\n",
    "Config(key=\"lsh_num_permute\",value=64)\n",
    "Config(key=\"lsh_threshold\",value=0.7)\n",
    "db.commit()\n",
    "db.disconnect()\n",
    "db.unbind()"
   ]
  },
  {
   "cell_type": "code",
   "execution_count": 3,
   "id": "4ced26dd",
   "metadata": {},
   "outputs": [],
   "source": [
    "def worker(q):\n",
    "    db.bind(provider='postgres', user='postgres', host='localhost', password=\"example\", database='test',\n",
    "        port=5432)\n",
    "    db.generate_mapping()\n",
    "    while True:\n",
    "        data = q.get()\n",
    "        if data is None:\n",
    "            break\n",
    "        for i in data:\n",
    "            mol, label = i\n",
    "            mol = smiles(mol)\n",
    "            mol.canonicalize()\n",
    "            subs = [(x,None) for x in mol.split()]\n",
    "            for _ in range(10):\n",
    "                try:\n",
    "                    with db_session():\n",
    "                        Substance(subs)\n",
    "                        break\n",
    "                except Exception:\n",
    "                    continue\n",
    "    print(\"finished\")"
   ]
  },
  {
   "cell_type": "code",
   "execution_count": 4,
   "id": "ab834e54",
   "metadata": {
    "scrolled": true
   },
   "outputs": [
    {
     "data": {
      "text/plain": [
       "[None, None, None, None, None]"
      ]
     },
     "execution_count": 4,
     "metadata": {},
     "output_type": "execute_result"
    },
    {
     "name": "stderr",
     "output_type": "stream",
     "text": [
      "The process has forked and you cannot use this CoreFoundation functionality safely. You MUST exec().\n",
      "Break on __THE_PROCESS_HAS_FORKED_AND_YOU_CANNOT_USE_THIS_COREFOUNDATION_FUNCTIONALITY___YOU_MUST_EXEC__() to debug.\n",
      "The process has forked and you cannot use this CoreFoundation functionality safely. You MUST exec().\n",
      "Break on __THE_PROCESS_HAS_FORKED_AND_YOU_CANNOT_USE_THIS_COREFOUNDATION_FUNCTIONALITY___YOU_MUST_EXEC__() to debug.\n",
      "The process has forked and you cannot use this CoreFoundation functionality safely. You MUST exec().\n",
      "Break on __THE_PROCESS_HAS_FORKED_AND_YOU_CANNOT_USE_THIS_COREFOUNDATION_FUNCTIONALITY___YOU_MUST_EXEC__() to debug.\n",
      "The process has forked and you cannot use this CoreFoundation functionality safely. You MUST exec().\n",
      "Break on __THE_PROCESS_HAS_FORKED_AND_YOU_CANNOT_USE_THIS_COREFOUNDATION_FUNCTIONALITY___YOU_MUST_EXEC__() to debug.\n",
      "The process has forked and you cannot use this CoreFoundation functionality safely. You MUST exec().\n",
      "Break on __THE_PROCESS_HAS_FORKED_AND_YOU_CANNOT_USE_THIS_COREFOUNDATION_FUNCTIONALITY___YOU_MUST_EXEC__() to debug.\n"
     ]
    }
   ],
   "source": [
    "q = Queue(maxsize=30)\n",
    "num_workers=5\n",
    "pr = [Process(target=worker, \n",
    "              args=(q,)) for _ in range(num_workers)]\n",
    "[p.start() for p in pr]"
   ]
  },
  {
   "cell_type": "code",
   "execution_count": 5,
   "id": "43049ffb",
   "metadata": {},
   "outputs": [
    {
     "name": "stderr",
     "output_type": "stream",
     "text": [
      "30999it [00:02, 11161.08it/s]\n"
     ]
    },
    {
     "ename": "KeyboardInterrupt",
     "evalue": "",
     "output_type": "error",
     "traceback": [
      "\u001B[0;31m---------------------------------------------------------------------------\u001B[0m",
      "\u001B[0;31mKeyboardInterrupt\u001B[0m                         Traceback (most recent call last)",
      "Cell \u001B[0;32mIn[5], line 22\u001B[0m\n\u001B[1;32m     20\u001B[0m     tmp\u001B[38;5;241m.\u001B[39mappend((smi, idx))\n\u001B[1;32m     21\u001B[0m     \u001B[38;5;28;01mif\u001B[39;00m \u001B[38;5;28mlen\u001B[39m(tmp) \u001B[38;5;241m==\u001B[39m \u001B[38;5;241m1000\u001B[39m:\n\u001B[0;32m---> 22\u001B[0m         \u001B[43mq\u001B[49m\u001B[38;5;241;43m.\u001B[39;49m\u001B[43mput\u001B[49m\u001B[43m(\u001B[49m\u001B[43mtmp\u001B[49m\u001B[43m)\u001B[49m\n\u001B[1;32m     23\u001B[0m         tmp \u001B[38;5;241m=\u001B[39m []\n\u001B[1;32m     24\u001B[0m \u001B[38;5;28;01melse\u001B[39;00m:\n",
      "File \u001B[0;32m~/University/ChythonDB/.venv/lib/python3.9/site-packages/multiprocess/queues.py:92\u001B[0m, in \u001B[0;36mQueue.put\u001B[0;34m(self, obj, block, timeout)\u001B[0m\n\u001B[1;32m     90\u001B[0m \u001B[38;5;28;01mif\u001B[39;00m \u001B[38;5;28mself\u001B[39m\u001B[38;5;241m.\u001B[39m_closed:\n\u001B[1;32m     91\u001B[0m     \u001B[38;5;28;01mraise\u001B[39;00m \u001B[38;5;167;01mValueError\u001B[39;00m(\u001B[38;5;124mf\u001B[39m\u001B[38;5;124m\"\u001B[39m\u001B[38;5;124mQueue \u001B[39m\u001B[38;5;132;01m{\u001B[39;00m\u001B[38;5;28mself\u001B[39m\u001B[38;5;132;01m!r}\u001B[39;00m\u001B[38;5;124m is closed\u001B[39m\u001B[38;5;124m\"\u001B[39m)\n\u001B[0;32m---> 92\u001B[0m \u001B[38;5;28;01mif\u001B[39;00m \u001B[38;5;129;01mnot\u001B[39;00m \u001B[38;5;28;43mself\u001B[39;49m\u001B[38;5;241;43m.\u001B[39;49m\u001B[43m_sem\u001B[49m\u001B[38;5;241;43m.\u001B[39;49m\u001B[43macquire\u001B[49m\u001B[43m(\u001B[49m\u001B[43mblock\u001B[49m\u001B[43m,\u001B[49m\u001B[43m \u001B[49m\u001B[43mtimeout\u001B[49m\u001B[43m)\u001B[49m:\n\u001B[1;32m     93\u001B[0m     \u001B[38;5;28;01mraise\u001B[39;00m Full\n\u001B[1;32m     95\u001B[0m \u001B[38;5;28;01mwith\u001B[39;00m \u001B[38;5;28mself\u001B[39m\u001B[38;5;241m.\u001B[39m_notempty:\n",
      "\u001B[0;31mKeyboardInterrupt\u001B[0m: "
     ]
    }
   ],
   "source": [
    "with zipfile.ZipFile(\"../dataset/Chembl28.smi.zip\", 'r') as zip_ref:\n",
    "    zip_ref.extractall(\"\")\n",
    "with open(\"Chembl28.smi\",) as f:\n",
    "    tmp = []\n",
    "    for n, row in tqdm(enumerate(f)):\n",
    "        if n == 50000:\n",
    "            break\n",
    "        columns = row.rstrip('\\n').lstrip().split(\" \")\n",
    "        smi = columns[0]\n",
    "        idx = None\n",
    "        if len(columns) > 1:\n",
    "            if columns[1].startswith(\"|\"):\n",
    "                smi += columns[1]\n",
    "                if len(columns) > 2:\n",
    "                    idx = columns[2]\n",
    "            else:\n",
    "                idx = columns[1]\n",
    "        if not idx:\n",
    "            idx = n\n",
    "        tmp.append((smi, idx))\n",
    "        if len(tmp) == 1000:\n",
    "            q.put(tmp)\n",
    "            tmp = []\n",
    "    else:\n",
    "        q.put(tmp)\n",
    "    for i in range(num_workers):\n",
    "        q.put(None)"
   ]
  },
  {
   "cell_type": "code",
   "execution_count": null,
   "id": "d564211d",
   "metadata": {},
   "outputs": [],
   "source": [
    "db.bind(provider='postgres', user='postgres', host='localhost', password=\"example\", database='test',\n",
    "        port=5432)\n",
    "db.generate_mapping()\n",
    "db.create_fing_index()\n",
    "db.create_sim_index()"
   ]
  }
 ],
 "metadata": {
  "kernelspec": {
   "display_name": "Python 3 (ipykernel)",
   "language": "python",
   "name": "python3"
  },
  "language_info": {
   "codemirror_mode": {
    "name": "ipython",
    "version": 3
   },
   "file_extension": ".py",
   "mimetype": "text/x-python",
   "name": "python",
   "nbconvert_exporter": "python",
   "pygments_lexer": "ipython3",
   "version": "3.9.18"
  }
 },
 "nbformat": 4,
 "nbformat_minor": 5
}